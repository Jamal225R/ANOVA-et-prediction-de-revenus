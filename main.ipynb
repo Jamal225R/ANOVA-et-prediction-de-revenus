{
 "cells": [
  {
   "cell_type": "markdown",
   "metadata": {},
   "source": [
    "# MISSION 4: Modelisations de type ANOVA et regression lineaire"
   ]
  },
  {
   "cell_type": "markdown",
   "metadata": {},
   "source": [
    "Cette derniere  mission  consister  à modeliser  la table  obtenue de la mission 3 en appliquant  des  modelisations de type **ANOVA** et de  type  **regression lineaire** .\n",
    "Ces applications  nous  permettront de repondre  à  des  problematiques   de repartition egalitaire dans  les differents  pays."
   ]
  },
  {
   "cell_type": "code",
   "execution_count": 79,
   "metadata": {},
   "outputs": [],
   "source": [
    "# Importation des  modules et librairies  pour  la data science \n",
    "import pandas as  pd\n",
    "import  numpy as  np\n",
    "import matplotlib.pyplot as  plt\n",
    "from matplotlib.collections import LineCollection\n",
    "%matplotlib inline\n",
    "import seaborn as sns\n",
    "sns.set_style('darkgrid')\n",
    "import plotly.express as px\n",
    "from sklearn import decomposition\n",
    "from sklearn import preprocessing\n",
    "from sklearn.linear_model import LogisticRegression\n",
    "from sklearn.model_selection import train_test_split\n",
    "from sklearn.preprocessing import StandardScaler\n",
    "from sklearn.linear_model import LogisticRegression\n",
    "from sklearn.metrics import confusion_matrix\n",
    "from sklearn.metrics import classification_report,accuracy_score\n",
    "from matplotlib.colors import ListedColormap\n",
    "from mpl_toolkits.mplot3d import Axes3D\n",
    "import scipy.stats as st\n",
    "from scipy.stats import ks_2samp\n",
    "from sklearn.cluster import KMeans\n",
    "from scipy.cluster.hierarchy import dendrogram, linkage, fcluster\n",
    "import statsmodels.formula.api as smf\n",
    "import statsmodels.api as sm\n",
    "import math as ma\n",
    "from statsmodels.formula.api import ols\n",
    "from collections import Counter\n",
    "import warnings\n",
    "warnings.filterwarnings(\"ignore\")\n",
    "\n",
    "#Une fois  les  modules  importés  nous allons  charger  les données  "
   ]
  },
  {
   "cell_type": "markdown",
   "metadata": {},
   "source": [
    "# Chargeons  la table de  la  mission 3"
   ]
  },
  {
   "cell_type": "code",
   "execution_count": 13,
   "metadata": {},
   "outputs": [
    {
     "data": {
      "text/html": [
       "<div>\n",
       "<style scoped>\n",
       "    .dataframe tbody tr th:only-of-type {\n",
       "        vertical-align: middle;\n",
       "    }\n",
       "\n",
       "    .dataframe tbody tr th {\n",
       "        vertical-align: top;\n",
       "    }\n",
       "\n",
       "    .dataframe thead th {\n",
       "        text-align: right;\n",
       "    }\n",
       "</style>\n",
       "<table border=\"1\" class=\"dataframe\">\n",
       "  <thead>\n",
       "    <tr style=\"text-align: right;\">\n",
       "      <th></th>\n",
       "      <th>pays</th>\n",
       "      <th>country</th>\n",
       "      <th>class_parent</th>\n",
       "      <th>m_J</th>\n",
       "      <th>logrevM</th>\n",
       "      <th>income</th>\n",
       "      <th>G_j</th>\n",
       "      <th>pj</th>\n",
       "      <th>p</th>\n",
       "      <th>p*500</th>\n",
       "    </tr>\n",
       "  </thead>\n",
       "  <tbody>\n",
       "    <tr>\n",
       "      <th>0</th>\n",
       "      <td>Albania</td>\n",
       "      <td>ALB</td>\n",
       "      <td>1</td>\n",
       "      <td>2994.829902</td>\n",
       "      <td>8.004643</td>\n",
       "      <td>728.89795</td>\n",
       "      <td>0.2998</td>\n",
       "      <td>0.477171</td>\n",
       "      <td>0.096</td>\n",
       "      <td>48</td>\n",
       "    </tr>\n",
       "    <tr>\n",
       "      <th>1</th>\n",
       "      <td>Albania</td>\n",
       "      <td>ALB</td>\n",
       "      <td>1</td>\n",
       "      <td>2994.829902</td>\n",
       "      <td>8.004643</td>\n",
       "      <td>728.89795</td>\n",
       "      <td>0.2998</td>\n",
       "      <td>0.477171</td>\n",
       "      <td>0.096</td>\n",
       "      <td>48</td>\n",
       "    </tr>\n",
       "    <tr>\n",
       "      <th>2</th>\n",
       "      <td>Albania</td>\n",
       "      <td>ALB</td>\n",
       "      <td>1</td>\n",
       "      <td>2994.829902</td>\n",
       "      <td>8.004643</td>\n",
       "      <td>728.89795</td>\n",
       "      <td>0.2998</td>\n",
       "      <td>0.477171</td>\n",
       "      <td>0.096</td>\n",
       "      <td>48</td>\n",
       "    </tr>\n",
       "    <tr>\n",
       "      <th>3</th>\n",
       "      <td>Albania</td>\n",
       "      <td>ALB</td>\n",
       "      <td>1</td>\n",
       "      <td>2994.829902</td>\n",
       "      <td>8.004643</td>\n",
       "      <td>728.89795</td>\n",
       "      <td>0.2998</td>\n",
       "      <td>0.477171</td>\n",
       "      <td>0.096</td>\n",
       "      <td>48</td>\n",
       "    </tr>\n",
       "    <tr>\n",
       "      <th>4</th>\n",
       "      <td>Albania</td>\n",
       "      <td>ALB</td>\n",
       "      <td>1</td>\n",
       "      <td>2994.829902</td>\n",
       "      <td>8.004643</td>\n",
       "      <td>728.89795</td>\n",
       "      <td>0.2998</td>\n",
       "      <td>0.477171</td>\n",
       "      <td>0.096</td>\n",
       "      <td>48</td>\n",
       "    </tr>\n",
       "    <tr>\n",
       "      <th>...</th>\n",
       "      <td>...</td>\n",
       "      <td>...</td>\n",
       "      <td>...</td>\n",
       "      <td>...</td>\n",
       "      <td>...</td>\n",
       "      <td>...</td>\n",
       "      <td>...</td>\n",
       "      <td>...</td>\n",
       "      <td>...</td>\n",
       "      <td>...</td>\n",
       "    </tr>\n",
       "    <tr>\n",
       "      <th>3449995</th>\n",
       "      <td>Vietnam</td>\n",
       "      <td>VNM</td>\n",
       "      <td>100</td>\n",
       "      <td>1377.773966</td>\n",
       "      <td>7.228224</td>\n",
       "      <td>9522.46600</td>\n",
       "      <td>0.3815</td>\n",
       "      <td>0.527665</td>\n",
       "      <td>0.128</td>\n",
       "      <td>64</td>\n",
       "    </tr>\n",
       "    <tr>\n",
       "      <th>3449996</th>\n",
       "      <td>Vietnam</td>\n",
       "      <td>VNM</td>\n",
       "      <td>100</td>\n",
       "      <td>1377.773966</td>\n",
       "      <td>7.228224</td>\n",
       "      <td>9522.46600</td>\n",
       "      <td>0.3815</td>\n",
       "      <td>0.527665</td>\n",
       "      <td>0.128</td>\n",
       "      <td>64</td>\n",
       "    </tr>\n",
       "    <tr>\n",
       "      <th>3449997</th>\n",
       "      <td>Vietnam</td>\n",
       "      <td>VNM</td>\n",
       "      <td>100</td>\n",
       "      <td>1377.773966</td>\n",
       "      <td>7.228224</td>\n",
       "      <td>9522.46600</td>\n",
       "      <td>0.3815</td>\n",
       "      <td>0.527665</td>\n",
       "      <td>0.128</td>\n",
       "      <td>64</td>\n",
       "    </tr>\n",
       "    <tr>\n",
       "      <th>3449998</th>\n",
       "      <td>Vietnam</td>\n",
       "      <td>VNM</td>\n",
       "      <td>100</td>\n",
       "      <td>1377.773966</td>\n",
       "      <td>7.228224</td>\n",
       "      <td>9522.46600</td>\n",
       "      <td>0.3815</td>\n",
       "      <td>0.527665</td>\n",
       "      <td>0.128</td>\n",
       "      <td>64</td>\n",
       "    </tr>\n",
       "    <tr>\n",
       "      <th>3449999</th>\n",
       "      <td>Vietnam</td>\n",
       "      <td>VNM</td>\n",
       "      <td>100</td>\n",
       "      <td>1377.773966</td>\n",
       "      <td>7.228224</td>\n",
       "      <td>9522.46600</td>\n",
       "      <td>0.3815</td>\n",
       "      <td>0.527665</td>\n",
       "      <td>0.128</td>\n",
       "      <td>64</td>\n",
       "    </tr>\n",
       "  </tbody>\n",
       "</table>\n",
       "<p>3450000 rows × 10 columns</p>\n",
       "</div>"
      ],
      "text/plain": [
       "            pays country  class_parent          m_J   logrevM      income  \\\n",
       "0        Albania     ALB             1  2994.829902  8.004643   728.89795   \n",
       "1        Albania     ALB             1  2994.829902  8.004643   728.89795   \n",
       "2        Albania     ALB             1  2994.829902  8.004643   728.89795   \n",
       "3        Albania     ALB             1  2994.829902  8.004643   728.89795   \n",
       "4        Albania     ALB             1  2994.829902  8.004643   728.89795   \n",
       "...          ...     ...           ...          ...       ...         ...   \n",
       "3449995  Vietnam     VNM           100  1377.773966  7.228224  9522.46600   \n",
       "3449996  Vietnam     VNM           100  1377.773966  7.228224  9522.46600   \n",
       "3449997  Vietnam     VNM           100  1377.773966  7.228224  9522.46600   \n",
       "3449998  Vietnam     VNM           100  1377.773966  7.228224  9522.46600   \n",
       "3449999  Vietnam     VNM           100  1377.773966  7.228224  9522.46600   \n",
       "\n",
       "            G_j        pj      p  p*500  \n",
       "0        0.2998  0.477171  0.096     48  \n",
       "1        0.2998  0.477171  0.096     48  \n",
       "2        0.2998  0.477171  0.096     48  \n",
       "3        0.2998  0.477171  0.096     48  \n",
       "4        0.2998  0.477171  0.096     48  \n",
       "...         ...       ...    ...    ...  \n",
       "3449995  0.3815  0.527665  0.128     64  \n",
       "3449996  0.3815  0.527665  0.128     64  \n",
       "3449997  0.3815  0.527665  0.128     64  \n",
       "3449998  0.3815  0.527665  0.128     64  \n",
       "3449999  0.3815  0.527665  0.128     64  \n",
       "\n",
       "[3450000 rows x 10 columns]"
      ]
     },
     "execution_count": 13,
     "metadata": {},
     "output_type": "execute_result"
    }
   ],
   "source": [
    "df1 = pd.read_csv('df4v.csv')\n",
    "df1v = df1.drop(columns  = ['Unnamed: 0','c_i_child'])\n",
    "df1v"
   ]
  },
  {
   "cell_type": "code",
   "execution_count": 14,
   "metadata": {},
   "outputs": [
    {
     "data": {
      "text/html": [
       "<div>\n",
       "<style scoped>\n",
       "    .dataframe tbody tr th:only-of-type {\n",
       "        vertical-align: middle;\n",
       "    }\n",
       "\n",
       "    .dataframe tbody tr th {\n",
       "        vertical-align: top;\n",
       "    }\n",
       "\n",
       "    .dataframe thead th {\n",
       "        text-align: right;\n",
       "    }\n",
       "</style>\n",
       "<table border=\"1\" class=\"dataframe\">\n",
       "  <thead>\n",
       "    <tr style=\"text-align: right;\">\n",
       "      <th></th>\n",
       "      <th>pays</th>\n",
       "      <th>country</th>\n",
       "      <th>class_parent</th>\n",
       "      <th>m_J</th>\n",
       "      <th>logrevM</th>\n",
       "      <th>income</th>\n",
       "      <th>G_j</th>\n",
       "      <th>pj</th>\n",
       "      <th>p</th>\n",
       "      <th>p*500</th>\n",
       "      <th>incomelog</th>\n",
       "    </tr>\n",
       "  </thead>\n",
       "  <tbody>\n",
       "    <tr>\n",
       "      <th>0</th>\n",
       "      <td>Albania</td>\n",
       "      <td>ALB</td>\n",
       "      <td>1</td>\n",
       "      <td>2994.829902</td>\n",
       "      <td>8.004643</td>\n",
       "      <td>728.89795</td>\n",
       "      <td>0.2998</td>\n",
       "      <td>0.477171</td>\n",
       "      <td>0.096</td>\n",
       "      <td>48</td>\n",
       "      <td>6.591534</td>\n",
       "    </tr>\n",
       "    <tr>\n",
       "      <th>1</th>\n",
       "      <td>Albania</td>\n",
       "      <td>ALB</td>\n",
       "      <td>1</td>\n",
       "      <td>2994.829902</td>\n",
       "      <td>8.004643</td>\n",
       "      <td>728.89795</td>\n",
       "      <td>0.2998</td>\n",
       "      <td>0.477171</td>\n",
       "      <td>0.096</td>\n",
       "      <td>48</td>\n",
       "      <td>6.591534</td>\n",
       "    </tr>\n",
       "    <tr>\n",
       "      <th>2</th>\n",
       "      <td>Albania</td>\n",
       "      <td>ALB</td>\n",
       "      <td>1</td>\n",
       "      <td>2994.829902</td>\n",
       "      <td>8.004643</td>\n",
       "      <td>728.89795</td>\n",
       "      <td>0.2998</td>\n",
       "      <td>0.477171</td>\n",
       "      <td>0.096</td>\n",
       "      <td>48</td>\n",
       "      <td>6.591534</td>\n",
       "    </tr>\n",
       "    <tr>\n",
       "      <th>3</th>\n",
       "      <td>Albania</td>\n",
       "      <td>ALB</td>\n",
       "      <td>1</td>\n",
       "      <td>2994.829902</td>\n",
       "      <td>8.004643</td>\n",
       "      <td>728.89795</td>\n",
       "      <td>0.2998</td>\n",
       "      <td>0.477171</td>\n",
       "      <td>0.096</td>\n",
       "      <td>48</td>\n",
       "      <td>6.591534</td>\n",
       "    </tr>\n",
       "    <tr>\n",
       "      <th>4</th>\n",
       "      <td>Albania</td>\n",
       "      <td>ALB</td>\n",
       "      <td>1</td>\n",
       "      <td>2994.829902</td>\n",
       "      <td>8.004643</td>\n",
       "      <td>728.89795</td>\n",
       "      <td>0.2998</td>\n",
       "      <td>0.477171</td>\n",
       "      <td>0.096</td>\n",
       "      <td>48</td>\n",
       "      <td>6.591534</td>\n",
       "    </tr>\n",
       "  </tbody>\n",
       "</table>\n",
       "</div>"
      ],
      "text/plain": [
       "      pays country  class_parent          m_J   logrevM     income     G_j  \\\n",
       "0  Albania     ALB             1  2994.829902  8.004643  728.89795  0.2998   \n",
       "1  Albania     ALB             1  2994.829902  8.004643  728.89795  0.2998   \n",
       "2  Albania     ALB             1  2994.829902  8.004643  728.89795  0.2998   \n",
       "3  Albania     ALB             1  2994.829902  8.004643  728.89795  0.2998   \n",
       "4  Albania     ALB             1  2994.829902  8.004643  728.89795  0.2998   \n",
       "\n",
       "         pj      p  p*500  incomelog  \n",
       "0  0.477171  0.096     48   6.591534  \n",
       "1  0.477171  0.096     48   6.591534  \n",
       "2  0.477171  0.096     48   6.591534  \n",
       "3  0.477171  0.096     48   6.591534  \n",
       "4  0.477171  0.096     48   6.591534  "
      ]
     },
     "execution_count": 14,
     "metadata": {},
     "output_type": "execute_result"
    }
   ],
   "source": [
    "#Creons  la variable de logarithme des revenus  moyens  m_j\n",
    "df1v['incomelog'] = np.log(df1v['income'])\n",
    "df1v.head()"
   ]
  },
  {
   "cell_type": "markdown",
   "metadata": {},
   "source": [
    "Nous avons toutes les variables nous  permettant de faire  l'analyse de la avriance  "
   ]
  },
  {
   "cell_type": "markdown",
   "metadata": {},
   "source": [
    "# Realisation de  l'analyse de la variance  "
   ]
  },
  {
   "cell_type": "markdown",
   "metadata": {},
   "source": [
    "# ANOVA sur  les variables initiales"
   ]
  },
  {
   "cell_type": "markdown",
   "metadata": {},
   "source": [
    "Nous allons  realiser  les differentes anova en  mettant en comparaison  les variables  initiales et celles avec  les  logarithmes  . Ensuite  , nous comparons les differnts  resultats  "
   ]
  },
  {
   "cell_type": "markdown",
   "metadata": {},
   "source": [
    "# Anova sur  le revenu  income"
   ]
  },
  {
   "cell_type": "code",
   "execution_count": 16,
   "metadata": {},
   "outputs": [
    {
     "name": "stdout",
     "output_type": "stream",
     "text": [
      "                            OLS Regression Results                            \n",
      "==============================================================================\n",
      "Dep. Variable:                 income   R-squared:                       0.460\n",
      "Model:                            OLS   Adj. R-squared:                  0.460\n",
      "Method:                 Least Squares   F-statistic:                 4.322e+04\n",
      "Date:                Mon, 24 Jan 2022   Prob (F-statistic):               0.00\n",
      "Time:                        16:40:28   Log-Likelihood:            -3.5564e+07\n",
      "No. Observations:             3450000   AIC:                         7.113e+07\n",
      "Df Residuals:                 3449931   BIC:                         7.113e+07\n",
      "Df Model:                          68                                         \n",
      "Covariance Type:            nonrobust                                         \n",
      "==================================================================================\n",
      "                     coef    std err          t      P>|t|      [0.025      0.975]\n",
      "----------------------------------------------------------------------------------\n",
      "Intercept       2994.8299     32.447     92.298      0.000    2931.234    3058.426\n",
      "country[T.ARG]  2853.0548     45.887     62.175      0.000    2763.117    2942.993\n",
      "country[T.ARM] -1366.4471     45.887    -29.778      0.000   -1456.385   -1276.509\n",
      "country[T.AUT]  1.364e+04     45.887    297.309      0.000    1.36e+04    1.37e+04\n",
      "country[T.AZE]  -637.4009     45.887    -13.891      0.000    -727.339    -547.463\n",
      "country[T.BEL]  1.203e+04     45.887    262.158      0.000    1.19e+04    1.21e+04\n",
      "country[T.BGR]  1990.1487     45.887     43.370      0.000    1900.211    2080.086\n",
      "country[T.BLR]   926.3336     45.887     20.187      0.000     836.396    1016.271\n",
      "country[T.BOL]    21.4339     45.887      0.467      0.640     -68.504     111.372\n",
      "country[T.BRA]  1812.6547     45.887     39.502      0.000    1722.717    1902.592\n",
      "country[T.CAF] -2183.5300     45.887    -47.584      0.000   -2273.468   -2093.592\n",
      "country[T.CHN]  -472.0712     45.887    -10.288      0.000    -562.009    -382.133\n",
      "country[T.CIV] -2594.9947     45.887    -56.551      0.000   -2684.932   -2505.057\n",
      "country[T.COL]   552.1754     45.887     12.033      0.000     462.238     642.113\n",
      "country[T.CRI]  2585.5567     45.887     56.346      0.000    2495.619    2675.494\n",
      "country[T.CYP]  1.435e+04     45.887    312.734      0.000    1.43e+04    1.44e+04\n",
      "country[T.CZE]  5240.4635     45.887    114.203      0.000    5150.526    5330.401\n",
      "country[T.DEU]  1.507e+04     45.887    328.344      0.000     1.5e+04    1.52e+04\n",
      "country[T.DNK]  1.405e+04     45.887    306.147      0.000     1.4e+04    1.41e+04\n",
      "country[T.DOM]   563.5722     45.887     12.282      0.000     473.634     653.510\n",
      "country[T.ECU]   388.9111     45.887      8.475      0.000     298.973     478.849\n",
      "country[T.ESP]  1.012e+04     45.887    220.587      0.000       1e+04    1.02e+04\n",
      "country[T.EST]  4707.2327     45.887    102.582      0.000    4617.295    4797.170\n",
      "country[T.FIN]  1.331e+04     45.887    290.090      0.000    1.32e+04    1.34e+04\n",
      "country[T.FJI]  -896.0990     45.887    -19.528      0.000    -986.037    -806.161\n",
      "country[T.FRA]  1.531e+04     45.887    333.742      0.000    1.52e+04    1.54e+04\n",
      "country[T.GBR]  1.871e+04     45.887    407.841      0.000    1.86e+04    1.88e+04\n",
      "country[T.GEO] -1631.0713     45.887    -35.545      0.000   -1721.009   -1541.133\n",
      "country[T.GRC]  8732.4444     45.887    190.301      0.000    8642.507    8822.382\n",
      "country[T.HND]   301.4385     45.887      6.569      0.000     211.501     391.376\n",
      "country[T.HRV]  4721.6359     45.887    102.896      0.000    4631.698    4811.574\n",
      "country[T.HUN]  3106.5113     45.887     67.698      0.000    3016.574    3196.449\n",
      "country[T.IDN] -1660.2116     45.887    -36.180      0.000   -1750.149   -1570.274\n",
      "country[T.IRL]  1.472e+04     45.887    320.696      0.000    1.46e+04    1.48e+04\n",
      "country[T.ISL]  2.389e+04     45.887    520.702      0.000    2.38e+04     2.4e+04\n",
      "country[T.ITA]  1.193e+04     45.887    259.992      0.000    1.18e+04     1.2e+04\n",
      "country[T.JPN]  1.444e+04     45.887    314.642      0.000    1.43e+04    1.45e+04\n",
      "country[T.KAZ]  -755.6801     45.887    -16.468      0.000    -845.618    -665.742\n",
      "country[T.KGZ] -1221.6107     45.887    -26.622      0.000   -1311.548   -1131.673\n",
      "country[T.KHM] -1508.4897     45.887    -32.874      0.000   -1598.427   -1418.552\n",
      "country[T.LTU]  3628.8267     45.887     79.081      0.000    3538.889    3718.764\n",
      "country[T.LUX]  2.222e+04     45.887    484.288      0.000    2.21e+04    2.23e+04\n",
      "country[T.LVA]  3769.6447     45.887     82.150      0.000    3679.707    3859.582\n",
      "country[T.MDA]  -845.6585     45.887    -18.429      0.000    -935.596    -755.721\n",
      "country[T.MEX]   891.0004     45.887     19.417      0.000     801.063     980.938\n",
      "country[T.MKD]  1604.5664     45.887     34.967      0.000    1514.629    1694.504\n",
      "country[T.MNE]  3553.0692     45.887     77.430      0.000    3463.131    3643.007\n",
      "country[T.MOZ] -2302.3494     45.887    -50.174      0.000   -2392.287   -2212.412\n",
      "country[T.MRT] -1196.2208     45.887    -26.069      0.000   -1286.159   -1106.283\n",
      "country[T.NLD]  1.473e+04     45.887    321.086      0.000    1.46e+04    1.48e+04\n",
      "country[T.NOR]  1.949e+04     45.887    424.703      0.000    1.94e+04    1.96e+04\n",
      "country[T.PAN]  2140.3095     45.887     46.643      0.000    2050.372    2230.247\n",
      "country[T.PER]   335.7034     45.887      7.316      0.000     245.766     425.641\n",
      "country[T.POL]  2746.8903     45.887     59.861      0.000    2656.953    2836.828\n",
      "country[T.PRT]  7103.8455     45.887    154.810      0.000    7013.908    7193.783\n",
      "country[T.PRY]   283.2511     45.887      6.173      0.000     193.313     373.189\n",
      "country[T.ROU]   323.5073     45.887      7.050      0.000     233.569     413.445\n",
      "country[T.RUS]  4161.9408     45.887     90.699      0.000    4072.003    4251.879\n",
      "country[T.SLV]  -139.6051     45.887     -3.042      0.002    -229.543     -49.667\n",
      "country[T.SRB]  1884.9209     45.887     41.077      0.000    1794.983    1974.859\n",
      "country[T.SVK]  3101.7500     45.887     67.595      0.000    3011.812    3191.688\n",
      "country[T.SVN]  9111.1776     45.887    198.555      0.000    9021.240    9201.115\n",
      "country[T.SWE]  1.319e+04     45.887    287.429      0.000    1.31e+04    1.33e+04\n",
      "country[T.THA]  -251.1173     45.887     -5.472      0.000    -341.055    -161.179\n",
      "country[T.TUR]  3055.6354     45.887     66.590      0.000    2965.698    3145.573\n",
      "country[T.UKR]   354.5584     45.887      7.727      0.000     264.621     444.496\n",
      "country[T.URY]  2295.9550     45.887     50.034      0.000    2206.017    2385.893\n",
      "country[T.VNM] -1617.0559     45.887    -35.240      0.000   -1706.994   -1527.118\n",
      "country[T.ZAF]  2623.0750     45.887     57.163      0.000    2533.137    2713.013\n",
      "==============================================================================\n",
      "Omnibus:                  3919856.289   Durbin-Watson:                   0.001\n",
      "Prob(Omnibus):                  0.000   Jarque-Bera (JB):        631428189.823\n",
      "Skew:                           5.770   Prob(JB):                         0.00\n",
      "Kurtosis:                      68.264   Cond. No.                         70.0\n",
      "==============================================================================\n",
      "\n",
      "Notes:\n",
      "[1] Standard Errors assume that the covariance matrix of the errors is correctly specified.\n"
     ]
    }
   ],
   "source": [
    "#Calculons  l'anova\n",
    "anova_revenu = smf.ols('income~country', data=df1v).fit()\n",
    "print(anova_revenu.summary())"
   ]
  },
  {
   "cell_type": "markdown",
   "metadata": {},
   "source": [
    "La  p-value du test  est de 0 , cela est inferieur au seuil  de  5% . Et  nous avons  un R squared  de  0.46 .On rejette donc  l'hypothèse selon  laquelle    α1 =   α2 =   0\n",
    "Le facteuur du  pays  a donc  une  incidence  sur  le revenu  des individus  \n",
    "Pour obtenir le tableau de l'analyse de la variance, on utilise la commande anova_lm :"
   ]
  },
  {
   "cell_type": "code",
   "execution_count": 18,
   "metadata": {},
   "outputs": [
    {
     "data": {
      "text/html": [
       "<div>\n",
       "<style scoped>\n",
       "    .dataframe tbody tr th:only-of-type {\n",
       "        vertical-align: middle;\n",
       "    }\n",
       "\n",
       "    .dataframe tbody tr th {\n",
       "        vertical-align: top;\n",
       "    }\n",
       "\n",
       "    .dataframe thead th {\n",
       "        text-align: right;\n",
       "    }\n",
       "</style>\n",
       "<table border=\"1\" class=\"dataframe\">\n",
       "  <thead>\n",
       "    <tr style=\"text-align: right;\">\n",
       "      <th></th>\n",
       "      <th>sum_sq</th>\n",
       "      <th>df</th>\n",
       "      <th>F</th>\n",
       "      <th>PR(&gt;F)</th>\n",
       "    </tr>\n",
       "  </thead>\n",
       "  <tbody>\n",
       "    <tr>\n",
       "      <th>country</th>\n",
       "      <td>1.547242e+14</td>\n",
       "      <td>68.0</td>\n",
       "      <td>43223.636696</td>\n",
       "      <td>0.0</td>\n",
       "    </tr>\n",
       "    <tr>\n",
       "      <th>Residual</th>\n",
       "      <td>1.816095e+14</td>\n",
       "      <td>3449931.0</td>\n",
       "      <td>NaN</td>\n",
       "      <td>NaN</td>\n",
       "    </tr>\n",
       "  </tbody>\n",
       "</table>\n",
       "</div>"
      ],
      "text/plain": [
       "                sum_sq         df             F  PR(>F)\n",
       "country   1.547242e+14       68.0  43223.636696     0.0\n",
       "Residual  1.816095e+14  3449931.0           NaN     NaN"
      ]
     },
     "execution_count": 18,
     "metadata": {},
     "output_type": "execute_result"
    }
   ],
   "source": [
    "sm.stats.anova_lm(anova_revenu, typ=2)"
   ]
  },
  {
   "cell_type": "markdown",
   "metadata": {},
   "source": [
    "La statistique utilis\u0013ée en analyse de la variance suit sous H0 une loi de Fisher"
   ]
  },
  {
   "cell_type": "markdown",
   "metadata": {},
   "source": [
    "# Etude sur  l'echantillon test  des missions 1 et 2"
   ]
  },
  {
   "cell_type": "markdown",
   "metadata": {},
   "source": [
    "Pour  gagner entemps et  en data  ,  je decide de realiser  la  mission sur  l'echantillon test de depart de ce  projet.  Ainsi  j'appliquerai  toute la mission 4 sur cet echantillon\n",
    "Commencer  par creer  la table de notre echantillon "
   ]
  },
  {
   "cell_type": "code",
   "execution_count": 54,
   "metadata": {},
   "outputs": [],
   "source": [
    "#Creation de la liste de pays , les individus comportant  notre echnatillon \n",
    "#Nous le ferons avec  la table de la mission 3  \n",
    "#Creation de liste de pays  \n",
    "Liste = ['Honduras','Slovenia','France','Mauritania','South Africa','China']"
   ]
  },
  {
   "cell_type": "code",
   "execution_count": 64,
   "metadata": {},
   "outputs": [
    {
     "data": {
      "text/html": [
       "<div>\n",
       "<style scoped>\n",
       "    .dataframe tbody tr th:only-of-type {\n",
       "        vertical-align: middle;\n",
       "    }\n",
       "\n",
       "    .dataframe tbody tr th {\n",
       "        vertical-align: top;\n",
       "    }\n",
       "\n",
       "    .dataframe thead th {\n",
       "        text-align: right;\n",
       "    }\n",
       "</style>\n",
       "<table border=\"1\" class=\"dataframe\">\n",
       "  <thead>\n",
       "    <tr style=\"text-align: right;\">\n",
       "      <th></th>\n",
       "      <th>pays</th>\n",
       "      <th>country</th>\n",
       "      <th>class_parent</th>\n",
       "      <th>m_J</th>\n",
       "      <th>logrevM</th>\n",
       "      <th>income</th>\n",
       "      <th>G_j</th>\n",
       "      <th>pj</th>\n",
       "      <th>p</th>\n",
       "      <th>p*500</th>\n",
       "      <th>incomelog</th>\n",
       "    </tr>\n",
       "  </thead>\n",
       "  <tbody>\n",
       "    <tr>\n",
       "      <th>600000</th>\n",
       "      <td>China</td>\n",
       "      <td>CHN</td>\n",
       "      <td>1</td>\n",
       "      <td>2522.758726</td>\n",
       "      <td>7.833108</td>\n",
       "      <td>16.719418</td>\n",
       "      <td>0.3940</td>\n",
       "      <td>0.4695</td>\n",
       "      <td>0.084</td>\n",
       "      <td>42</td>\n",
       "      <td>2.816571</td>\n",
       "    </tr>\n",
       "    <tr>\n",
       "      <th>600001</th>\n",
       "      <td>China</td>\n",
       "      <td>CHN</td>\n",
       "      <td>1</td>\n",
       "      <td>2522.758726</td>\n",
       "      <td>7.833108</td>\n",
       "      <td>16.719418</td>\n",
       "      <td>0.3940</td>\n",
       "      <td>0.4695</td>\n",
       "      <td>0.084</td>\n",
       "      <td>42</td>\n",
       "      <td>2.816571</td>\n",
       "    </tr>\n",
       "    <tr>\n",
       "      <th>600002</th>\n",
       "      <td>China</td>\n",
       "      <td>CHN</td>\n",
       "      <td>1</td>\n",
       "      <td>2522.758726</td>\n",
       "      <td>7.833108</td>\n",
       "      <td>16.719418</td>\n",
       "      <td>0.3940</td>\n",
       "      <td>0.4695</td>\n",
       "      <td>0.084</td>\n",
       "      <td>42</td>\n",
       "      <td>2.816571</td>\n",
       "    </tr>\n",
       "    <tr>\n",
       "      <th>600003</th>\n",
       "      <td>China</td>\n",
       "      <td>CHN</td>\n",
       "      <td>1</td>\n",
       "      <td>2522.758726</td>\n",
       "      <td>7.833108</td>\n",
       "      <td>16.719418</td>\n",
       "      <td>0.3940</td>\n",
       "      <td>0.4695</td>\n",
       "      <td>0.084</td>\n",
       "      <td>42</td>\n",
       "      <td>2.816571</td>\n",
       "    </tr>\n",
       "    <tr>\n",
       "      <th>600004</th>\n",
       "      <td>China</td>\n",
       "      <td>CHN</td>\n",
       "      <td>1</td>\n",
       "      <td>2522.758726</td>\n",
       "      <td>7.833108</td>\n",
       "      <td>16.719418</td>\n",
       "      <td>0.3940</td>\n",
       "      <td>0.4695</td>\n",
       "      <td>0.084</td>\n",
       "      <td>42</td>\n",
       "      <td>2.816571</td>\n",
       "    </tr>\n",
       "    <tr>\n",
       "      <th>...</th>\n",
       "      <td>...</td>\n",
       "      <td>...</td>\n",
       "      <td>...</td>\n",
       "      <td>...</td>\n",
       "      <td>...</td>\n",
       "      <td>...</td>\n",
       "      <td>...</td>\n",
       "      <td>...</td>\n",
       "      <td>...</td>\n",
       "      <td>...</td>\n",
       "      <td>...</td>\n",
       "    </tr>\n",
       "    <tr>\n",
       "      <th>3049995</th>\n",
       "      <td>South Africa</td>\n",
       "      <td>ZAF</td>\n",
       "      <td>100</td>\n",
       "      <td>5617.904880</td>\n",
       "      <td>8.633714</td>\n",
       "      <td>82408.550000</td>\n",
       "      <td>0.6301</td>\n",
       "      <td>0.6770</td>\n",
       "      <td>0.170</td>\n",
       "      <td>85</td>\n",
       "      <td>11.319444</td>\n",
       "    </tr>\n",
       "    <tr>\n",
       "      <th>3049996</th>\n",
       "      <td>South Africa</td>\n",
       "      <td>ZAF</td>\n",
       "      <td>100</td>\n",
       "      <td>5617.904880</td>\n",
       "      <td>8.633714</td>\n",
       "      <td>82408.550000</td>\n",
       "      <td>0.6301</td>\n",
       "      <td>0.6770</td>\n",
       "      <td>0.170</td>\n",
       "      <td>85</td>\n",
       "      <td>11.319444</td>\n",
       "    </tr>\n",
       "    <tr>\n",
       "      <th>3049997</th>\n",
       "      <td>South Africa</td>\n",
       "      <td>ZAF</td>\n",
       "      <td>100</td>\n",
       "      <td>5617.904880</td>\n",
       "      <td>8.633714</td>\n",
       "      <td>82408.550000</td>\n",
       "      <td>0.6301</td>\n",
       "      <td>0.6770</td>\n",
       "      <td>0.170</td>\n",
       "      <td>85</td>\n",
       "      <td>11.319444</td>\n",
       "    </tr>\n",
       "    <tr>\n",
       "      <th>3049998</th>\n",
       "      <td>South Africa</td>\n",
       "      <td>ZAF</td>\n",
       "      <td>100</td>\n",
       "      <td>5617.904880</td>\n",
       "      <td>8.633714</td>\n",
       "      <td>82408.550000</td>\n",
       "      <td>0.6301</td>\n",
       "      <td>0.6770</td>\n",
       "      <td>0.170</td>\n",
       "      <td>85</td>\n",
       "      <td>11.319444</td>\n",
       "    </tr>\n",
       "    <tr>\n",
       "      <th>3049999</th>\n",
       "      <td>South Africa</td>\n",
       "      <td>ZAF</td>\n",
       "      <td>100</td>\n",
       "      <td>5617.904880</td>\n",
       "      <td>8.633714</td>\n",
       "      <td>82408.550000</td>\n",
       "      <td>0.6301</td>\n",
       "      <td>0.6770</td>\n",
       "      <td>0.170</td>\n",
       "      <td>85</td>\n",
       "      <td>11.319444</td>\n",
       "    </tr>\n",
       "  </tbody>\n",
       "</table>\n",
       "<p>300000 rows × 11 columns</p>\n",
       "</div>"
      ],
      "text/plain": [
       "                 pays country  class_parent          m_J   logrevM  \\\n",
       "600000          China     CHN             1  2522.758726  7.833108   \n",
       "600001          China     CHN             1  2522.758726  7.833108   \n",
       "600002          China     CHN             1  2522.758726  7.833108   \n",
       "600003          China     CHN             1  2522.758726  7.833108   \n",
       "600004          China     CHN             1  2522.758726  7.833108   \n",
       "...               ...     ...           ...          ...       ...   \n",
       "3049995  South Africa     ZAF           100  5617.904880  8.633714   \n",
       "3049996  South Africa     ZAF           100  5617.904880  8.633714   \n",
       "3049997  South Africa     ZAF           100  5617.904880  8.633714   \n",
       "3049998  South Africa     ZAF           100  5617.904880  8.633714   \n",
       "3049999  South Africa     ZAF           100  5617.904880  8.633714   \n",
       "\n",
       "               income     G_j      pj      p  p*500  incomelog  \n",
       "600000      16.719418  0.3940  0.4695  0.084     42   2.816571  \n",
       "600001      16.719418  0.3940  0.4695  0.084     42   2.816571  \n",
       "600002      16.719418  0.3940  0.4695  0.084     42   2.816571  \n",
       "600003      16.719418  0.3940  0.4695  0.084     42   2.816571  \n",
       "600004      16.719418  0.3940  0.4695  0.084     42   2.816571  \n",
       "...               ...     ...     ...    ...    ...        ...  \n",
       "3049995  82408.550000  0.6301  0.6770  0.170     85  11.319444  \n",
       "3049996  82408.550000  0.6301  0.6770  0.170     85  11.319444  \n",
       "3049997  82408.550000  0.6301  0.6770  0.170     85  11.319444  \n",
       "3049998  82408.550000  0.6301  0.6770  0.170     85  11.319444  \n",
       "3049999  82408.550000  0.6301  0.6770  0.170     85  11.319444  \n",
       "\n",
       "[300000 rows x 11 columns]"
      ]
     },
     "execution_count": 64,
     "metadata": {},
     "output_type": "execute_result"
    }
   ],
   "source": [
    "#Creons  une table avec  ces pays \n",
    "#Selections des pays  choisis\n",
    "data = df1v[df1v['pays'].isin(Liste)]\n",
    "data"
   ]
  },
  {
   "cell_type": "markdown",
   "metadata": {},
   "source": [
    "Nous avons notre echantillon de test pret , nous appliquer  les differentes  modelisations  requises demandées  pour ce  projet."
   ]
  },
  {
   "cell_type": "markdown",
   "metadata": {},
   "source": [
    "# Anova sur  les revenus  "
   ]
  },
  {
   "cell_type": "code",
   "execution_count": 65,
   "metadata": {},
   "outputs": [
    {
     "name": "stdout",
     "output_type": "stream",
     "text": [
      "                            OLS Regression Results                            \n",
      "==============================================================================\n",
      "Dep. Variable:                 income   R-squared:                       0.351\n",
      "Model:                            OLS   Adj. R-squared:                  0.351\n",
      "Method:                 Least Squares   F-statistic:                 3.249e+04\n",
      "Date:                Tue, 25 Jan 2022   Prob (F-statistic):               0.00\n",
      "Time:                        16:51:50   Log-Likelihood:            -3.1277e+06\n",
      "No. Observations:              300000   AIC:                         6.255e+06\n",
      "Df Residuals:                  299994   BIC:                         6.256e+06\n",
      "Df Model:                           5                                         \n",
      "Covariance Type:            nonrobust                                         \n",
      "========================================================================================\n",
      "                           coef    std err          t      P>|t|      [0.025      0.975]\n",
      "----------------------------------------------------------------------------------------\n",
      "Intercept             2522.7587     36.486     69.144      0.000    2451.248    2594.269\n",
      "pays[T.France]        1.579e+04     51.598    305.953      0.000    1.57e+04    1.59e+04\n",
      "pays[T.Honduras]       773.5097     51.598     14.991      0.000     672.378     874.641\n",
      "pays[T.Mauritania]    -724.1496     51.598    -14.034      0.000    -825.281    -623.018\n",
      "pays[T.Slovenia]      9583.2487     51.598    185.728      0.000    9482.118    9684.380\n",
      "pays[T.South Africa]  3095.1462     51.598     59.985      0.000    2994.015    3196.277\n",
      "==============================================================================\n",
      "Omnibus:                   352768.340   Durbin-Watson:                   0.001\n",
      "Prob(Omnibus):                  0.000   Jarque-Bera (JB):         49782629.637\n",
      "Skew:                           6.217   Prob(JB):                         0.00\n",
      "Kurtosis:                      64.871   Cond. No.                         6.85\n",
      "==============================================================================\n",
      "\n",
      "Notes:\n",
      "[1] Standard Errors assume that the covariance matrix of the errors is correctly specified.\n"
     ]
    }
   ],
   "source": [
    "#Calculons  l'anova pour  les revenus \n",
    "anova_inc = smf.ols('income~pays', data = data).fit()\n",
    "print(anova_inc.summary())"
   ]
  },
  {
   "cell_type": "code",
   "execution_count": 63,
   "metadata": {},
   "outputs": [
    {
     "name": "stdout",
     "output_type": "stream",
     "text": [
      "                            OLS Regression Results                            \n",
      "==============================================================================\n",
      "Dep. Variable:              incomelog   R-squared:                       0.525\n",
      "Model:                            OLS   Adj. R-squared:                  0.525\n",
      "Method:                 Least Squares   F-statistic:                 6.622e+04\n",
      "Date:                Tue, 25 Jan 2022   Prob (F-statistic):               0.00\n",
      "Time:                        16:48:40   Log-Likelihood:            -4.0451e+05\n",
      "No. Observations:              300000   AIC:                         8.090e+05\n",
      "Df Residuals:                  299994   BIC:                         8.091e+05\n",
      "Df Model:                           5                                         \n",
      "Covariance Type:            nonrobust                                         \n",
      "========================================================================================\n",
      "                           coef    std err          t      P>|t|      [0.025      0.975]\n",
      "----------------------------------------------------------------------------------------\n",
      "Intercept                7.3980      0.004   1775.201      0.000       7.390       7.406\n",
      "pays[T.France]           2.2341      0.006    379.073      0.000       2.223       2.246\n",
      "pays[T.Honduras]        -0.0170      0.006     -2.884      0.004      -0.029      -0.005\n",
      "pays[T.Mauritania]      -0.1802      0.006    -30.582      0.000      -0.192      -0.169\n",
      "pays[T.Slovenia]         1.9143      0.006    324.806      0.000       1.903       1.926\n",
      "pays[T.South Africa]     0.3198      0.006     54.262      0.000       0.308       0.331\n",
      "==============================================================================\n",
      "Omnibus:                    15810.906   Durbin-Watson:                   0.000\n",
      "Prob(Omnibus):                  0.000   Jarque-Bera (JB):            61648.780\n",
      "Skew:                          -0.078   Prob(JB):                         0.00\n",
      "Kurtosis:                       5.215   Cond. No.                         6.85\n",
      "==============================================================================\n",
      "\n",
      "Notes:\n",
      "[1] Standard Errors assume that the covariance matrix of the errors is correctly specified.\n"
     ]
    }
   ],
   "source": [
    "#Calculons  l'anova pour  les revenus avec logarithme\n",
    "anova_inclog = smf.ols('incomelog~pays', data = data).fit()\n",
    "print(anova_inclog.summary())"
   ]
  },
  {
   "cell_type": "markdown",
   "metadata": {},
   "source": [
    "Avec la variable en logarithme  ,  on obtient  une  plus grande  performance  avec un R carre superieur "
   ]
  },
  {
   "cell_type": "markdown",
   "metadata": {},
   "source": [
    "# Anova sur  les revenus  moyens m_J"
   ]
  },
  {
   "cell_type": "code",
   "execution_count": 73,
   "metadata": {},
   "outputs": [
    {
     "name": "stdout",
     "output_type": "stream",
     "text": [
      "                            OLS Regression Results                            \n",
      "==============================================================================\n",
      "Dep. Variable:                    m_J   R-squared:                       1.000\n",
      "Model:                            OLS   Adj. R-squared:                  1.000\n",
      "Method:                 Least Squares   F-statistic:                 6.410e+28\n",
      "Date:                Tue, 25 Jan 2022   Prob (F-statistic):               0.00\n",
      "Time:                        18:19:01   Log-Likelihood:             5.2635e+06\n",
      "No. Observations:              300000   AIC:                        -1.053e+07\n",
      "Df Residuals:                  299994   BIC:                        -1.053e+07\n",
      "Df Model:                           5                                         \n",
      "Covariance Type:            nonrobust                                         \n",
      "========================================================================================\n",
      "                           coef    std err          t      P>|t|      [0.025      0.975]\n",
      "----------------------------------------------------------------------------------------\n",
      "Intercept             2522.7587    2.6e-11   9.71e+13      0.000    2522.759    2522.759\n",
      "pays[T.France]        1.579e+04   3.67e-11    4.3e+14      0.000    1.58e+04    1.58e+04\n",
      "pays[T.Honduras]       773.5097   3.67e-11   2.11e+13      0.000     773.510     773.510\n",
      "pays[T.Mauritania]    -724.1496   3.67e-11  -1.97e+13      0.000    -724.150    -724.150\n",
      "pays[T.Slovenia]      9583.2487   3.67e-11   2.61e+14      0.000    9583.249    9583.249\n",
      "pays[T.South Africa]  3095.1462   3.67e-11   8.43e+13      0.000    3095.146    3095.146\n",
      "==============================================================================\n",
      "Omnibus:                  1066800.999   Durbin-Watson:                   0.000\n",
      "Prob(Omnibus):                  0.000   Jarque-Bera (JB):            21083.606\n",
      "Skew:                          -0.037   Prob(JB):                         0.00\n",
      "Kurtosis:                       1.703   Cond. No.                         6.85\n",
      "==============================================================================\n",
      "\n",
      "Notes:\n",
      "[1] Standard Errors assume that the covariance matrix of the errors is correctly specified.\n"
     ]
    }
   ],
   "source": [
    "#Calculons  l'anova sur  les revenus  moyens m_J\n",
    "anova_mj = smf.ols('m_J~pays', data = data).fit()\n",
    "print(anova_mj.summary())"
   ]
  },
  {
   "cell_type": "code",
   "execution_count": 74,
   "metadata": {},
   "outputs": [
    {
     "name": "stdout",
     "output_type": "stream",
     "text": [
      "                            OLS Regression Results                            \n",
      "==============================================================================\n",
      "Dep. Variable:                logrevM   R-squared:                       1.000\n",
      "Model:                            OLS   Adj. R-squared:                  1.000\n",
      "Method:                 Least Squares   F-statistic:                 1.522e+27\n",
      "Date:                Tue, 25 Jan 2022   Prob (F-statistic):               0.00\n",
      "Time:                        18:21:54   Log-Likelihood:             7.3673e+06\n",
      "No. Observations:              300000   AIC:                        -1.473e+07\n",
      "Df Residuals:                  299994   BIC:                        -1.473e+07\n",
      "Df Model:                           5                                         \n",
      "Covariance Type:            nonrobust                                         \n",
      "========================================================================================\n",
      "                           coef    std err          t      P>|t|      [0.025      0.975]\n",
      "----------------------------------------------------------------------------------------\n",
      "Intercept                7.8331   2.34e-14   3.35e+14      0.000       7.833       7.833\n",
      "pays[T.France]           1.9821   3.31e-14   5.99e+13      0.000       1.982       1.982\n",
      "pays[T.Honduras]         0.2674   3.31e-14   8.09e+12      0.000       0.267       0.267\n",
      "pays[T.Mauritania]      -0.3383   3.31e-14  -1.02e+13      0.000      -0.338      -0.338\n",
      "pays[T.Slovenia]         1.5683   3.31e-14   4.74e+13      0.000       1.568       1.568\n",
      "pays[T.South Africa]     0.8006   3.31e-14   2.42e+13      0.000       0.801       0.801\n",
      "==============================================================================\n",
      "Omnibus:                    20909.889   Durbin-Watson:                   0.000\n",
      "Prob(Omnibus):                  0.000   Jarque-Bera (JB):             7808.072\n",
      "Skew:                          -0.124   Prob(JB):                         0.00\n",
      "Kurtosis:                       2.250   Cond. No.                         6.85\n",
      "==============================================================================\n",
      "\n",
      "Notes:\n",
      "[1] Standard Errors assume that the covariance matrix of the errors is correctly specified.\n"
     ]
    }
   ],
   "source": [
    "#Calculons  l'anova pour  les revenus moyens avec  logarithme\n",
    "anova_incmoylog = smf.ols('logrevM~pays', data = data).fit()\n",
    "print(anova_incmoylog.summary())"
   ]
  },
  {
   "cell_type": "markdown",
   "metadata": {},
   "source": [
    "On obtient encore  une  plus grande  performance  avec  le revenu moyen en  logarithme ."
   ]
  },
  {
   "cell_type": "code",
   "execution_count": 61,
   "metadata": {},
   "outputs": [
    {
     "data": {
      "image/png": "[encoded data removed]",
      "text/plain": [
       "<Figure size 720x720 with 1 Axes>"
      ]
     },
     "metadata": {},
     "output_type": "display_data"
    }
   ],
   "source": [
    "#Voyons graphiquement   les variances de cet echantillon\n",
    "plt.figure(figsize=(10,10))\n",
    "sns.boxplot(x='pays',y='income',showmeans = True,data = data)\n",
    "plt.savefig('heteroscedasticité de  l echantillon test .jpg')"
   ]
  },
  {
   "cell_type": "code",
   "execution_count": 92,
   "metadata": {},
   "outputs": [
    {
     "data": {
      "image/png": "[encoded data removed]",
      "text/plain": [
       "<Figure size 720x720 with 1 Axes>"
      ]
     },
     "metadata": {},
     "output_type": "display_data"
    }
   ],
   "source": [
    "#Voyons graphiquement   les variances de cet echantillon avec la variable en  ogarithme\n",
    "plt.figure(figsize=(10,10))\n",
    "sns.boxplot(x='pays',y='incomelog',showmeans = True,data = data)\n",
    "plt.savefig('heteroscedasticité de  l echantillon test de la variable  logarithme .jpg')"
   ]
  },
  {
   "cell_type": "markdown",
   "metadata": {},
   "source": [
    "#Interpretation#\n",
    "Daans notre echantillon  on voit  bien que  les pays  sont distinctement representés et  on  peut  voir  des ecarts importants entre les pays en nous basant  sur  les  interquantiles et  des  moyennes . Cependant  la Slovenie semble garder  un certain equilibre.\n",
    "Appliqons  l'anova  pour  mesure  statistiquement  l'influence du  pays  dans  la repartition  egalitaire des revenus  des  populations"
   ]
  },
  {
   "cell_type": "code",
   "execution_count": 60,
   "metadata": {},
   "outputs": [
    {
     "data": {
      "text/html": [
       "<div>\n",
       "<style scoped>\n",
       "    .dataframe tbody tr th:only-of-type {\n",
       "        vertical-align: middle;\n",
       "    }\n",
       "\n",
       "    .dataframe tbody tr th {\n",
       "        vertical-align: top;\n",
       "    }\n",
       "\n",
       "    .dataframe thead th {\n",
       "        text-align: right;\n",
       "    }\n",
       "</style>\n",
       "<table border=\"1\" class=\"dataframe\">\n",
       "  <thead>\n",
       "    <tr style=\"text-align: right;\">\n",
       "      <th></th>\n",
       "      <th>sum_sq</th>\n",
       "      <th>df</th>\n",
       "      <th>F</th>\n",
       "      <th>PR(&gt;F)</th>\n",
       "    </tr>\n",
       "  </thead>\n",
       "  <tbody>\n",
       "    <tr>\n",
       "      <th>pays</th>\n",
       "      <td>1.081239e+13</td>\n",
       "      <td>5.0</td>\n",
       "      <td>32489.337955</td>\n",
       "      <td>0.0</td>\n",
       "    </tr>\n",
       "    <tr>\n",
       "      <th>Residual</th>\n",
       "      <td>1.996748e+13</td>\n",
       "      <td>299994.0</td>\n",
       "      <td>NaN</td>\n",
       "      <td>NaN</td>\n",
       "    </tr>\n",
       "  </tbody>\n",
       "</table>\n",
       "</div>"
      ],
      "text/plain": [
       "                sum_sq        df             F  PR(>F)\n",
       "pays      1.081239e+13       5.0  32489.337955     0.0\n",
       "Residual  1.996748e+13  299994.0           NaN     NaN"
      ]
     },
     "execution_count": 60,
     "metadata": {},
     "output_type": "execute_result"
    }
   ],
   "source": [
    "#Maintenant l'analyse de la variance  totale \n",
    "sm.stats.anova_lm(anova_inc, typ=2)"
   ]
  },
  {
   "cell_type": "markdown",
   "metadata": {},
   "source": [
    "Le test  de fisher  indique  une  p-valeur significativement  pette  au seuil de  5 %.On rejette  donc  l'hypothèse que  les  moyennes sont egales et equivalentes  à  0. Cela indique  que  le  pays   a un  impact  sur  les revenus des  populations comme  pouvait  le  presager  l'illustration  graphique des  boites à moustaches.\n",
    "\n",
    "Mais aussi  le  R carre de  0.35 est aussi important  si on  prend  en considerations d'autres facteurs potentiels  de  l'effort  , de  la chance  , des  politiques  diverses des pays ."
   ]
  },
  {
   "cell_type": "markdown",
   "metadata": {},
   "source": [
    "# Test de  l'egalité des variances "
   ]
  },
  {
   "cell_type": "code",
   "execution_count": 67,
   "metadata": {},
   "outputs": [
    {
     "data": {
      "text/plain": [
       "pays\n",
       "China           6.633592e+06\n",
       "France          2.059862e+08\n",
       "Honduras        3.873323e+07\n",
       "Mauritania      2.967371e+06\n",
       "Slovenia        2.941356e+07\n",
       "South Africa    1.156236e+08\n",
       "Name: income, dtype: float64"
      ]
     },
     "execution_count": 67,
     "metadata": {},
     "output_type": "execute_result"
    }
   ],
   "source": [
    "#Calculons  les variances  \n",
    "data.groupby(\"pays\")['income'].agg('var')"
   ]
  },
  {
   "cell_type": "markdown",
   "metadata": {},
   "source": [
    "Mais c’est le test de bartlett qui permet de tester si les variances sont significativement différentes ou non avec :\n",
    "\n",
    "H0 : Les variances de chaque groupe sont égales si p-value > 5%\n",
    "H1 : Les variances de chaque groupe ne sont pas toutes égales < 5%"
   ]
  },
  {
   "cell_type": "code",
   "execution_count": 68,
   "metadata": {},
   "outputs": [],
   "source": [
    "#Testons  l'egalité des variances  des deux clusters  \n",
    "#Constituons nos echantillons en fonction des clusters designés\n",
    "#dans notre echantillon  , nous avons  6 pays  mais  il suffit que deux des variables n'aient  pas la meme variance \n",
    "#Pour  proceder au tests de la variance\n",
    "varChine =  data.loc[data['pays']== 'China']['income']\n",
    "varFrance = data.loc[data['pays']== 'France']['income']"
   ]
  },
  {
   "cell_type": "code",
   "execution_count": 69,
   "metadata": {},
   "outputs": [
    {
     "data": {
      "text/plain": [
       "BartlettResult(statistic=105634.88494222007, pvalue=0.0)"
      ]
     },
     "execution_count": 69,
     "metadata": {},
     "output_type": "execute_result"
    }
   ],
   "source": [
    "#On teste l'egalite des variances  sous  H0:σ2^1=σ2 si ^2 pvaluer >5 {H1:σ2^1≠σ2^2, si pvaleur <5%\n",
    "st.bartlett(varChine,varFrance)"
   ]
  },
  {
   "cell_type": "code",
   "execution_count": null,
   "metadata": {},
   "outputs": [],
   "source": [
    "Les variances ne sont  pas egales mais nous allons  poursuivre en testant la normalité des residus \n",
    "On utilise le test de Shapiro-Wilk pour tester la normalité des résidus où :\n",
    "\n",
    "H0 : Les résidus suivent une loi normale si p-value > 5%\n",
    "H1 : Les résidus ne suivent pas une loi normale si p-value < 5%"
   ]
  },
  {
   "cell_type": "code",
   "execution_count": 80,
   "metadata": {},
   "outputs": [
    {
     "data": {
      "text/plain": [
       "ShapiroResult(statistic=0.5619639158248901, pvalue=0.0)"
      ]
     },
     "execution_count": 80,
     "metadata": {},
     "output_type": "execute_result"
    }
   ],
   "source": [
    "from scipy.stats import shapiro\n",
    "model = ols('income ~ pays', data = data).fit()\n",
    "shapiro(model.resid)"
   ]
  },
  {
   "cell_type": "code",
   "execution_count": 81,
   "metadata": {},
   "outputs": [
    {
     "data": {
      "text/plain": [
       "<AxesSubplot:>"
      ]
     },
     "execution_count": 81,
     "metadata": {},
     "output_type": "execute_result"
    },
    {
     "data": {
      "image/png": "[encoded data removed]",
      "text/plain": [
       "<Figure size 432x288 with 1 Axes>"
      ]
     },
     "metadata": {},
     "output_type": "display_data"
    }
   ],
   "source": [
    "#Representons graphiquement  si  les distributions ssuivent  une  logique de  loi  normale  \n",
    "varChine.hist()"
   ]
  },
  {
   "cell_type": "code",
   "execution_count": 82,
   "metadata": {},
   "outputs": [
    {
     "data": {
      "text/plain": [
       "<AxesSubplot:>"
      ]
     },
     "execution_count": 82,
     "metadata": {},
     "output_type": "execute_result"
    },
    {
     "data": {
      "image/png": "[encoded data removed]",
      "text/plain": [
       "<Figure size 432x288 with 1 Axes>"
      ]
     },
     "metadata": {},
     "output_type": "display_data"
    }
   ],
   "source": [
    "#Pour la France\n",
    "varFrance.hist()"
   ]
  },
  {
   "cell_type": "markdown",
   "metadata": {},
   "source": [
    "Cs deux graphes  n'ont  pas  l'allure  ou  forme  de cloche  de  la  loi gaussienne"
   ]
  },
  {
   "cell_type": "markdown",
   "metadata": {},
   "source": [
    "# Conclusion  partielle "
   ]
  },
  {
   "cell_type": "markdown",
   "metadata": {},
   "source": [
    "Les versions  logarithmiques semblent etre  les  plus  performantes au regard  du   R  carré qui est plus  grand  autour de 1  pour  les deux variables de revenus  et  de revenus  moyens  . \n",
    "Aussi  , on  peut conclure que  le facteur  pays a bien  un effet significatif sur  les revenus  des individus  ."
   ]
  },
  {
   "cell_type": "markdown",
   "metadata": {},
   "source": [
    "# Regressions  lineaires  "
   ]
  },
  {
   "cell_type": "code",
   "execution_count": 84,
   "metadata": {},
   "outputs": [
    {
     "name": "stdout",
     "output_type": "stream",
     "text": [
      "                            OLS Regression Results                            \n",
      "==============================================================================\n",
      "Dep. Variable:                 income   R-squared:                       0.351\n",
      "Model:                            OLS   Adj. R-squared:                  0.351\n",
      "Method:                 Least Squares   F-statistic:                 8.122e+04\n",
      "Date:                Tue, 25 Jan 2022   Prob (F-statistic):               0.00\n",
      "Time:                        18:57:56   Log-Likelihood:            -3.1277e+06\n",
      "No. Observations:              300000   AIC:                         6.255e+06\n",
      "Df Residuals:                  299997   BIC:                         6.255e+06\n",
      "Df Model:                           2                                         \n",
      "Covariance Type:            nonrobust                                         \n",
      "==============================================================================\n",
      "                 coef    std err          t      P>|t|      [0.025      0.975]\n",
      "------------------------------------------------------------------------------\n",
      "Intercept   2.148e-09     66.306   3.24e-11      1.000    -129.958     129.958\n",
      "m_J            1.0000      0.003    355.268      0.000       0.994       1.006\n",
      "G_j        -1.348e-09    125.362  -1.08e-11      1.000    -245.706     245.706\n",
      "==============================================================================\n",
      "Omnibus:                   352768.340   Durbin-Watson:                   0.001\n",
      "Prob(Omnibus):                  0.000   Jarque-Bera (JB):         49782629.637\n",
      "Skew:                           6.217   Prob(JB):                         0.00\n",
      "Kurtosis:                      64.871   Cond. No.                     8.88e+04\n",
      "==============================================================================\n",
      "\n",
      "Notes:\n",
      "[1] Standard Errors assume that the covariance matrix of the errors is correctly specified.\n",
      "[2] The condition number is large, 8.88e+04. This might indicate that there are\n",
      "strong multicollinearity or other numerical problems.\n"
     ]
    }
   ],
   "source": [
    "reg_multi = smf.ols('income~m_J+G_j', data = data).fit()\n",
    "print(reg_multi.summary())"
   ]
  },
  {
   "cell_type": "markdown",
   "metadata": {},
   "source": [
    "Cette regression multiple  nous envoie  un R carré de 0.35 tandis que la p-valeur est de 0 donc  inferieur au seuil de test de 0?05.Cela peut dire qu'il n'existe pas de relation lineaire entre  le revenu  des  individus et le pays  dans  lesquels  ils vivent \n",
    "La variable de  l'indice de gini vaut  1 comme p valeur donc superieur au seuil du test. Du coup elle est  non significative  pour  determiner  le revenu  des individus  des pays.Bien evidemment le revenu  est significatif car tributaire de  l'ensemble des revenus du  pays ."
   ]
  },
  {
   "cell_type": "markdown",
   "metadata": {},
   "source": [
    "La deomposition totale de la variance  indique  O.35  ce qui est notable de savoir que  le pays de naissance  ou residence  peut  influer  sur   les revenus  de individus.\n",
    "Les autres elemnts comme  l'effort  ou la chance ne sont  pas  à negliger aussi . Car dans  un pays  tendant  vers   une repartition  egalitaire  tout est  possible et les  moyens sont  mis  pour accroitre  la chance  d'avoir  ou de disposer de revenus adequats.\n",
    "\n"
   ]
  },
  {
   "cell_type": "code",
   "execution_count": 87,
   "metadata": {},
   "outputs": [
    {
     "data": {
      "image/png": "[encoded data removed]",
      "text/plain": [
       "<Figure size 576x576 with 1 Axes>"
      ]
     },
     "metadata": {},
     "output_type": "display_data"
    }
   ],
   "source": [
    "#Affichons  un diagramme de dispersion des ces deux variables  \n",
    "plt.figure(figsize=(8,8))\n",
    "sns.regplot(x= data[\"income\"], y= data[\"m_J\"], line_kws={\"color\":\"r\",\"alpha\":0.7,\"lw\":5})\n",
    "plt.show()"
   ]
  },
  {
   "cell_type": "code",
   "execution_count": 88,
   "metadata": {},
   "outputs": [
    {
     "data": {
      "image/png": "[encoded data removed]",
      "text/plain": [
       "<Figure size 576x576 with 1 Axes>"
      ]
     },
     "metadata": {},
     "output_type": "display_data"
    }
   ],
   "source": [
    "#Affichons  un diagramme de dispersion des ces deux variables  \n",
    "plt.figure(figsize=(8,8))\n",
    "sns.regplot(x= data[\"income\"], y= data[\"G_j\"], line_kws={\"color\":\"r\",\"alpha\":0.7,\"lw\":5})\n",
    "plt.show()"
   ]
  },
  {
   "cell_type": "markdown",
   "metadata": {},
   "source": [
    "# L'Importance de  la classe des parents"
   ]
  },
  {
   "cell_type": "code",
   "execution_count": 90,
   "metadata": {},
   "outputs": [
    {
     "name": "stdout",
     "output_type": "stream",
     "text": [
      "                            OLS Regression Results                            \n",
      "==============================================================================\n",
      "Dep. Variable:                 income   R-squared:                       0.400\n",
      "Model:                            OLS   Adj. R-squared:                  0.400\n",
      "Method:                 Least Squares   F-statistic:                 6.669e+04\n",
      "Date:                Tue, 25 Jan 2022   Prob (F-statistic):               0.00\n",
      "Time:                        20:41:06   Log-Likelihood:            -3.1160e+06\n",
      "No. Observations:              300000   AIC:                         6.232e+06\n",
      "Df Residuals:                  299996   BIC:                         6.232e+06\n",
      "Df Model:                           3                                         \n",
      "Covariance Type:            nonrobust                                         \n",
      "================================================================================\n",
      "                   coef    std err          t      P>|t|      [0.025      0.975]\n",
      "--------------------------------------------------------------------------------\n",
      "Intercept    -3914.3698     68.511    -57.135      0.000   -4048.650   -3780.090\n",
      "m_J              1.0000      0.003    369.433      0.000       0.995       1.005\n",
      "G_j          -1.373e-09    120.555  -1.14e-11      1.000    -236.285     236.285\n",
      "class_parent    77.5123      0.496    156.205      0.000      76.540      78.485\n",
      "==============================================================================\n",
      "Omnibus:                   357782.813   Durbin-Watson:                   0.003\n",
      "Prob(Omnibus):                  0.000   Jarque-Bera (JB):         55530936.618\n",
      "Skew:                           6.341   Prob(JB):                         0.00\n",
      "Kurtosis:                      68.434   Cond. No.                     8.91e+04\n",
      "==============================================================================\n",
      "\n",
      "Notes:\n",
      "[1] Standard Errors assume that the covariance matrix of the errors is correctly specified.\n",
      "[2] The condition number is large, 8.91e+04. This might indicate that there are\n",
      "strong multicollinearity or other numerical problems.\n"
     ]
    }
   ],
   "source": [
    "reg_multi_classeP = smf.ols('income~m_J+G_j+class_parent', data = data).fit()\n",
    "print(reg_multi_classeP.summary())"
   ]
  },
  {
   "cell_type": "markdown",
   "metadata": {},
   "source": [
    "La classe parent ameliore  le  modele  à hauteur de  5% ."
   ]
  }
 ],
 "metadata": {
  "kernelspec": {
   "display_name": "Python 3",
   "language": "python",
   "name": "python3"
  },
  "language_info": {
   "codemirror_mode": {
    "name": "ipython",
    "version": 3
   },
   "file_extension": ".py",
   "mimetype": "text/x-python",
   "name": "python",
   "nbconvert_exporter": "python",
   "pygments_lexer": "ipython3",
   "version": "3.8.5"
  },
  "toc": {
   "base_numbering": 1,
   "nav_menu": {},
   "number_sections": true,
   "sideBar": true,
   "skip_h1_title": false,
   "title_cell": "Table of Contents",
   "title_sidebar": "Contents",
   "toc_cell": false,
   "toc_position": {},
   "toc_section_display": true,
   "toc_window_display": false
  },
  "varInspector": {
   "cols": {
    "lenName": 16,
    "lenType": 16,
    "lenVar": 40
   },
   "kernels_config": {
    "python": {
     "delete_cmd_postfix": "",
     "delete_cmd_prefix": "del ",
     "library": "var_list.py",
     "varRefreshCmd": "print(var_dic_list())"
    },
    "r": {
     "delete_cmd_postfix": ") ",
     "delete_cmd_prefix": "rm(",
     "library": "var_list.r",
     "varRefreshCmd": "cat(var_dic_list()) "
    }
   },
   "types_to_exclude": [
    "module",
    "function",
    "builtin_function_or_method",
    "instance",
    "_Feature"
   ],
   "window_display": false
  }
 },
 "nbformat": 4,
 "nbformat_minor": 4
}
